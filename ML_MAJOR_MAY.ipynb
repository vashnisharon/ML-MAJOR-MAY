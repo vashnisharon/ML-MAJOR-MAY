{
  "nbformat": 4,
  "nbformat_minor": 0,
  "metadata": {
    "colab": {
      "name": "ML-MAJOR-MAY.ipynb",
      "provenance": []
    },
    "kernelspec": {
      "name": "python3",
      "display_name": "Python 3"
    },
    "language_info": {
      "name": "python"
    }
  },
  "cells": [
    {
      "cell_type": "code",
      "metadata": {
        "id": "lAU7WhjdrCjd"
      },
      "source": [
        "from IPython.core.display import display, HTML"
      ],
      "execution_count": 1,
      "outputs": []
    },
    {
      "cell_type": "code",
      "metadata": {
        "colab": {
          "base_uri": "https://localhost:8080/",
          "height": 513
        },
        "id": "OkIddLm5rJpu",
        "outputId": "17d5e9db-1655-4883-f79a-dd837a2bd7c4"
      },
      "source": [
        "display(HTML(\"\"\"\n",
        "<!DOCTYPE html>\n",
        "<html lang=\"en\" dir=\"ltr\">\n",
        "<head>\n",
        "  <title>Intro to HTML</title>\n",
        "</head>\n",
        "\n",
        "<body>\n",
        "  <h1>Heading h1</h1>\n",
        "  <h2>Heading h2</h2>\n",
        "  <h3>Heading h3</h3>\n",
        "  <h4>Heading h4</h4>\n",
        "\n",
        "  <p>\n",
        "    That's a text paragraph. You can also <b>bold</b>, <mark>mark</mark>, <ins>underline</ins>, <del>strikethrough</del> and <i>emphasize</i> words.\n",
        "    You can also add links - here's one to <a href=\"https://en.wikipedia.org/wiki/Main_Page\">Wikipedia</a>.\n",
        "  </p>\n",
        "\n",
        "  <p>\n",
        "    This <br> is a paragraph <br> with <br> line breaks\n",
        "  </p>\n",
        "\n",
        "  <p style=\"color:red\">\n",
        "    Add colour to your paragraphs.\n",
        "  </p>\n",
        "\n",
        "  <p>Unordered list:</p>\n",
        "  <ul>\n",
        "    <li>Python</li>\n",
        "    <li>R</li>\n",
        "    <li>Julia</li>\n",
        "  </ul>\n",
        "\n",
        "  <p>Ordered list:</p>\n",
        "  <ol>\n",
        "    <li>Data collection</li>\n",
        "    <li>Exploratory data analysis</li>\n",
        "    <li>Data analysis</li>\n",
        "    <li>Policy recommendations</li>\n",
        "  </ol>\n",
        "  <hr>\n",
        "\n",
        "  <!-- This is a comment -->\n",
        "\n",
        "</body>\n",
        "</html>\n",
        "\"\"\"))"
      ],
      "execution_count": 2,
      "outputs": [
        {
          "output_type": "display_data",
          "data": {
            "text/html": [
              "\n",
              "<!DOCTYPE html>\n",
              "<html lang=\"en\" dir=\"ltr\">\n",
              "<head>\n",
              "  <title>Intro to HTML</title>\n",
              "</head>\n",
              "\n",
              "<body>\n",
              "  <h1>Heading h1</h1>\n",
              "  <h2>Heading h2</h2>\n",
              "  <h3>Heading h3</h3>\n",
              "  <h4>Heading h4</h4>\n",
              "\n",
              "  <p>\n",
              "    That's a text paragraph. You can also <b>bold</b>, <mark>mark</mark>, <ins>underline</ins>, <del>strikethrough</del> and <i>emphasize</i> words.\n",
              "    You can also add links - here's one to <a href=\"https://en.wikipedia.org/wiki/Main_Page\">Wikipedia</a>.\n",
              "  </p>\n",
              "\n",
              "  <p>\n",
              "    This <br> is a paragraph <br> with <br> line breaks\n",
              "  </p>\n",
              "\n",
              "  <p style=\"color:red\">\n",
              "    Add colour to your paragraphs.\n",
              "  </p>\n",
              "\n",
              "  <p>Unordered list:</p>\n",
              "  <ul>\n",
              "    <li>Python</li>\n",
              "    <li>R</li>\n",
              "    <li>Julia</li>\n",
              "  </ul>\n",
              "\n",
              "  <p>Ordered list:</p>\n",
              "  <ol>\n",
              "    <li>Data collection</li>\n",
              "    <li>Exploratory data analysis</li>\n",
              "    <li>Data analysis</li>\n",
              "    <li>Policy recommendations</li>\n",
              "  </ol>\n",
              "  <hr>\n",
              "\n",
              "  <!-- This is a comment -->\n",
              "\n",
              "</body>\n",
              "</html>\n"
            ],
            "text/plain": [
              "<IPython.core.display.HTML object>"
            ]
          },
          "metadata": {
            "tags": []
          }
        }
      ]
    }
  ]
}